{
 "cells": [
  {
   "cell_type": "markdown",
   "metadata": {},
   "source": [
    "KXH-ENGINE DOCUMENTATION"
   ]
  },
  {
   "cell_type": "markdown",
   "metadata": {},
   "source": [
    "KXH engine is a C++ writed testing environmen that simulate work of engine/engines and plane behavior. Also engine in future releases will has got port to live simulate data from physical engine.\n",
    "\n",
    "\n",
    "This jupiter document is simple overview of basic functions in engine."
   ]
  },
  {
   "cell_type": "markdown",
   "metadata": {},
   "source": [
    "----------------------------------\n",
    "\n",
    "KXH engine system uses simple kernel scheme. It means that you an easy edit kernel and don't care about startup\n",
    "\n",
    "\n",
    "[WARNING] Simple kernel has got standard structure called \"init_kernel()\". It runs all necessery functions in engine. If Engine doesn't work correct, check if init is included"
   ]
  },
  {
   "cell_type": "code",
   "execution_count": null,
   "metadata": {},
   "outputs": [],
   "source": []
  },
  {
   "cell_type": "markdown",
   "metadata": {},
   "source": [
    "standard output is a simple config engine introduction. Yo can easyly change resolution, file to open or drone"
   ]
  }
 ],
 "metadata": {
  "kernelspec": {
   "display_name": "Python 3",
   "language": "python",
   "name": "python3"
  },
  "language_info": {
   "name": "python",
   "version": "3.10.1 (tags/v3.10.1:2cd268a, Dec  6 2021, 19:10:37) [MSC v.1929 64 bit (AMD64)]"
  },
  "orig_nbformat": 4,
  "vscode": {
   "interpreter": {
    "hash": "26de051ba29f2982a8de78e945f0abaf191376122a1563185a90213a26c5da77"
   }
  }
 },
 "nbformat": 4,
 "nbformat_minor": 2
}
